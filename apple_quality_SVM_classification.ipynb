{
 "cells": [
  {
   "cell_type": "markdown",
   "metadata": {},
   "source": [
    "## **Objective: The objective of this project is to develop a Support Vector Machine (SVM) model capable of classifying Apple quality.**"
   ]
  },
  {
   "cell_type": "markdown",
   "metadata": {},
   "source": [
    "# **Import the data**"
   ]
  },
  {
   "cell_type": "code",
   "execution_count": 2,
   "metadata": {},
   "outputs": [],
   "source": [
    "import pandas as pd\n",
    "data = pd.read_csv(\"D:/Dataset/apple_quality_dataset/apple_quality.csv\")"
   ]
  },
  {
   "cell_type": "markdown",
   "metadata": {},
   "source": [
    "# **Data Preprocessing**"
   ]
  },
  {
   "cell_type": "code",
   "execution_count": 3,
   "metadata": {},
   "outputs": [
    {
     "data": {
      "text/plain": [
       "(4001, 9)"
      ]
     },
     "execution_count": 3,
     "metadata": {},
     "output_type": "execute_result"
    }
   ],
   "source": [
    "data.shape"
   ]
  },
  {
   "cell_type": "code",
   "execution_count": 4,
   "metadata": {},
   "outputs": [
    {
     "data": {
      "text/html": [
       "<div>\n",
       "<style scoped>\n",
       "    .dataframe tbody tr th:only-of-type {\n",
       "        vertical-align: middle;\n",
       "    }\n",
       "\n",
       "    .dataframe tbody tr th {\n",
       "        vertical-align: top;\n",
       "    }\n",
       "\n",
       "    .dataframe thead th {\n",
       "        text-align: right;\n",
       "    }\n",
       "</style>\n",
       "<table border=\"1\" class=\"dataframe\">\n",
       "  <thead>\n",
       "    <tr style=\"text-align: right;\">\n",
       "      <th></th>\n",
       "      <th>A_id</th>\n",
       "      <th>Size</th>\n",
       "      <th>Weight</th>\n",
       "      <th>Sweetness</th>\n",
       "      <th>Crunchiness</th>\n",
       "      <th>Juiciness</th>\n",
       "      <th>Ripeness</th>\n",
       "      <th>Acidity</th>\n",
       "      <th>Quality</th>\n",
       "    </tr>\n",
       "  </thead>\n",
       "  <tbody>\n",
       "    <tr>\n",
       "      <th>0</th>\n",
       "      <td>0.0</td>\n",
       "      <td>-3.970049</td>\n",
       "      <td>-2.512336</td>\n",
       "      <td>5.346330</td>\n",
       "      <td>-1.012009</td>\n",
       "      <td>1.844900</td>\n",
       "      <td>0.329840</td>\n",
       "      <td>-0.491590483</td>\n",
       "      <td>good</td>\n",
       "    </tr>\n",
       "    <tr>\n",
       "      <th>1</th>\n",
       "      <td>1.0</td>\n",
       "      <td>-1.195217</td>\n",
       "      <td>-2.839257</td>\n",
       "      <td>3.664059</td>\n",
       "      <td>1.588232</td>\n",
       "      <td>0.853286</td>\n",
       "      <td>0.867530</td>\n",
       "      <td>-0.722809367</td>\n",
       "      <td>good</td>\n",
       "    </tr>\n",
       "    <tr>\n",
       "      <th>2</th>\n",
       "      <td>2.0</td>\n",
       "      <td>-0.292024</td>\n",
       "      <td>-1.351282</td>\n",
       "      <td>-1.738429</td>\n",
       "      <td>-0.342616</td>\n",
       "      <td>2.838636</td>\n",
       "      <td>-0.038033</td>\n",
       "      <td>2.621636473</td>\n",
       "      <td>bad</td>\n",
       "    </tr>\n",
       "    <tr>\n",
       "      <th>3</th>\n",
       "      <td>3.0</td>\n",
       "      <td>-0.657196</td>\n",
       "      <td>-2.271627</td>\n",
       "      <td>1.324874</td>\n",
       "      <td>-0.097875</td>\n",
       "      <td>3.637970</td>\n",
       "      <td>-3.413761</td>\n",
       "      <td>0.790723217</td>\n",
       "      <td>good</td>\n",
       "    </tr>\n",
       "    <tr>\n",
       "      <th>4</th>\n",
       "      <td>4.0</td>\n",
       "      <td>1.364217</td>\n",
       "      <td>-1.296612</td>\n",
       "      <td>-0.384658</td>\n",
       "      <td>-0.553006</td>\n",
       "      <td>3.030874</td>\n",
       "      <td>-1.303849</td>\n",
       "      <td>0.501984036</td>\n",
       "      <td>good</td>\n",
       "    </tr>\n",
       "  </tbody>\n",
       "</table>\n",
       "</div>"
      ],
      "text/plain": [
       "   A_id      Size    Weight  Sweetness  Crunchiness  Juiciness  Ripeness  \\\n",
       "0   0.0 -3.970049 -2.512336   5.346330    -1.012009   1.844900  0.329840   \n",
       "1   1.0 -1.195217 -2.839257   3.664059     1.588232   0.853286  0.867530   \n",
       "2   2.0 -0.292024 -1.351282  -1.738429    -0.342616   2.838636 -0.038033   \n",
       "3   3.0 -0.657196 -2.271627   1.324874    -0.097875   3.637970 -3.413761   \n",
       "4   4.0  1.364217 -1.296612  -0.384658    -0.553006   3.030874 -1.303849   \n",
       "\n",
       "        Acidity Quality  \n",
       "0  -0.491590483    good  \n",
       "1  -0.722809367    good  \n",
       "2   2.621636473     bad  \n",
       "3   0.790723217    good  \n",
       "4   0.501984036    good  "
      ]
     },
     "execution_count": 4,
     "metadata": {},
     "output_type": "execute_result"
    }
   ],
   "source": [
    "data.head(5)"
   ]
  },
  {
   "cell_type": "markdown",
   "metadata": {},
   "source": [
    "**Check for missing data**"
   ]
  },
  {
   "cell_type": "code",
   "execution_count": 5,
   "metadata": {},
   "outputs": [
    {
     "name": "stdout",
     "output_type": "stream",
     "text": [
      "<class 'pandas.core.frame.DataFrame'>\n",
      "RangeIndex: 4001 entries, 0 to 4000\n",
      "Data columns (total 9 columns):\n",
      " #   Column       Non-Null Count  Dtype  \n",
      "---  ------       --------------  -----  \n",
      " 0   A_id         4000 non-null   float64\n",
      " 1   Size         4000 non-null   float64\n",
      " 2   Weight       4000 non-null   float64\n",
      " 3   Sweetness    4000 non-null   float64\n",
      " 4   Crunchiness  4000 non-null   float64\n",
      " 5   Juiciness    4000 non-null   float64\n",
      " 6   Ripeness     4000 non-null   float64\n",
      " 7   Acidity      4001 non-null   object \n",
      " 8   Quality      4000 non-null   object \n",
      "dtypes: float64(7), object(2)\n",
      "memory usage: 281.4+ KB\n"
     ]
    }
   ],
   "source": [
    "data.info()"
   ]
  },
  {
   "cell_type": "code",
   "execution_count": 6,
   "metadata": {},
   "outputs": [],
   "source": [
    "# drop some useless information\n",
    "data = data.dropna()\n",
    "data.drop('A_id', axis = 1, inplace = True)\n"
   ]
  },
  {
   "cell_type": "code",
   "execution_count": 7,
   "metadata": {},
   "outputs": [
    {
     "name": "stdout",
     "output_type": "stream",
     "text": [
      "Quality\n",
      "good    2004\n",
      "bad     1996\n",
      "Name: count, dtype: int64\n"
     ]
    }
   ],
   "source": [
    "print(data['Quality'].value_counts())"
   ]
  },
  {
   "cell_type": "markdown",
   "metadata": {},
   "source": [
    "**Feature Encoding**"
   ]
  },
  {
   "cell_type": "code",
   "execution_count": 8,
   "metadata": {},
   "outputs": [],
   "source": [
    "data['Quality'] = data['Quality'].map({'good': 1, 'bad': 0})"
   ]
  },
  {
   "cell_type": "markdown",
   "metadata": {},
   "source": [
    "**Check for correlations**"
   ]
  },
  {
   "cell_type": "code",
   "execution_count": 9,
   "metadata": {},
   "outputs": [
    {
     "data": {
      "text/plain": [
       "Quality        1.000000\n",
       "Juiciness      0.260223\n",
       "Sweetness      0.250998\n",
       "Size           0.244007\n",
       "Weight         0.001421\n",
       "Crunchiness   -0.012376\n",
       "Ripeness      -0.264315\n",
       "Name: Quality, dtype: float64"
      ]
     },
     "execution_count": 9,
     "metadata": {},
     "output_type": "execute_result"
    }
   ],
   "source": [
    "corr_matrix = data.corr(numeric_only=True)\n",
    "corr_matrix[\"Quality\"].sort_values(ascending=False)"
   ]
  },
  {
   "cell_type": "markdown",
   "metadata": {},
   "source": [
    "> hmm.. doesn't look like there is any correlation between the quality and the other features."
   ]
  },
  {
   "cell_type": "markdown",
   "metadata": {},
   "source": [
    "# **Machine Learning Model**"
   ]
  },
  {
   "cell_type": "markdown",
   "metadata": {},
   "source": [
    "**Split the data**"
   ]
  },
  {
   "cell_type": "code",
   "execution_count": 10,
   "metadata": {},
   "outputs": [],
   "source": [
    "# split the data\n",
    "from sklearn.model_selection import train_test_split\n",
    "\n",
    "X = data.drop(\"Quality\", axis=1)\n",
    "y = data[\"Quality\"]\n",
    "\n",
    "X_train, X_test, y_train, y_test = train_test_split(X, y, test_size=0.2, random_state=42)\n",
    "\n"
   ]
  },
  {
   "cell_type": "markdown",
   "metadata": {},
   "source": [
    "**Using Linear SVM**"
   ]
  },
  {
   "cell_type": "code",
   "execution_count": 11,
   "metadata": {},
   "outputs": [
    {
     "name": "stdout",
     "output_type": "stream",
     "text": [
      "train score: 74.44%\n",
      "test score: 75.88%\n"
     ]
    }
   ],
   "source": [
    "from sklearn.pipeline import make_pipeline\n",
    "from sklearn.preprocessing import StandardScaler # normalization\n",
    "from sklearn.svm import LinearSVC\n",
    "\n",
    "linear_svc_clf = make_pipeline(StandardScaler(), LinearSVC(C=1, random_state=42, dual=False))\n",
    "\n",
    "# train the model\n",
    "linear_svc_clf.fit(X_train, y_train)\n",
    "\n",
    "# evaluate the trained model\n",
    "train_score = linear_svc_clf.score(X_train, y_train)\n",
    "\n",
    "# evaluate the model on unseen data\n",
    "test_score = linear_svc_clf.score(X_test, y_test)\n",
    "\n",
    "print(f\"train score: {train_score:.2%}\")\n",
    "print(f\"test score: {test_score:.2%}\")\n"
   ]
  },
  {
   "cell_type": "code",
   "execution_count": 12,
   "metadata": {},
   "outputs": [
    {
     "data": {
      "image/png": "[encoded data removed]",
      "text/plain": [
       "<Figure size 640x480 with 2 Axes>"
      ]
     },
     "metadata": {},
     "output_type": "display_data"
    }
   ],
   "source": [
    "# plot model performance\n",
    "from sklearn.metrics import ConfusionMatrixDisplay\n",
    "import matplotlib.pyplot as plt\n",
    "\n",
    "ConfusionMatrixDisplay.from_estimator(linear_svc_clf, X_test, y_test)\n",
    "plt.show()"
   ]
  },
  {
   "cell_type": "markdown",
   "metadata": {},
   "source": [
    "> Despite a higher number of correctly classified values compared to incorrectly classified ones, the overall performance of the model remains inadequate."
   ]
  },
  {
   "cell_type": "markdown",
   "metadata": {},
   "source": [
    "> Since the model here is underfitting (linear = very simple) let's change the hyperparameters and see if we can improve it."
   ]
  },
  {
   "cell_type": "code",
   "execution_count": 13,
   "metadata": {},
   "outputs": [
    {
     "name": "stdout",
     "output_type": "stream",
     "text": [
      "Best Parameters: {'linearsvc__C': 0.1}\n",
      "Best Score: 74.47%\n"
     ]
    }
   ],
   "source": [
    "# hyperparameter tuning\n",
    "from sklearn.pipeline import make_pipeline\n",
    "from sklearn.model_selection import GridSearchCV\n",
    "\n",
    "param_grid = {\n",
    "    'linearsvc__C': [0.001, 0.01, 0.1, 1, 10],\n",
    "}\n",
    "\n",
    "linear_svc_clf = make_pipeline(StandardScaler(), LinearSVC(random_state=42, dual=False))\n",
    "grid_search = GridSearchCV(linear_svc_clf, param_grid, scoring='accuracy')\n",
    "\n",
    "\n",
    "grid_search.fit(X_train, y_train)\n",
    "\n",
    "best_param = grid_search.best_params_\n",
    "best_score = grid_search.best_score_\n",
    "\n",
    "print(\"Best Parameters:\", best_param)\n",
    "print(f\"Best Score: {best_score:.2%}\")"
   ]
  },
  {
   "cell_type": "markdown",
   "metadata": {},
   "source": [
    "> The model is still underfitting. SO let's try another classifier."
   ]
  },
  {
   "cell_type": "markdown",
   "metadata": {},
   "source": [
    "**Using Polynomial Features for Linear SVM**"
   ]
  },
  {
   "cell_type": "code",
   "execution_count": 14,
   "metadata": {},
   "outputs": [
    {
     "name": "stdout",
     "output_type": "stream",
     "text": [
      "train score: 95.41%\n",
      "test score: 93.00%\n"
     ]
    }
   ],
   "source": [
    "from sklearn.preprocessing import PolynomialFeatures\n",
    "\n",
    "polynomial_svm_clf = make_pipeline(\n",
    "    PolynomialFeatures(degree=4), # I tested it with higher degrees but the model started overfitting.\n",
    "    StandardScaler(),\n",
    "    LinearSVC(C=1, random_state=42, dual=False)\n",
    "    )\n",
    "\n",
    "# train the model\n",
    "polynomial_svm_clf.fit(X_train, y_train)\n",
    "\n",
    "# evaluate the trained model\n",
    "poly_Features_train_score = polynomial_svm_clf.score(X_train, y_train)\n",
    "\n",
    "# evaluate the model on unseen data\n",
    "poly_Features_test_score = polynomial_svm_clf.score(X_test, y_test)\n",
    "\n",
    "print(f\"train score: {poly_Features_train_score:.2%}\")\n",
    "print(f\"test score: {poly_Features_test_score :.2%}\")"
   ]
  },
  {
   "cell_type": "code",
   "execution_count": 15,
   "metadata": {},
   "outputs": [
    {
     "data": {
      "image/png": "[encoded data removed]",
      "text/plain": [
       "<Figure size 640x480 with 2 Axes>"
      ]
     },
     "metadata": {},
     "output_type": "display_data"
    }
   ],
   "source": [
    "# plot model performance\n",
    "ConfusionMatrixDisplay.from_estimator(polynomial_svm_clf, X_test, y_test)\n",
    "plt.show()"
   ]
  },
  {
   "cell_type": "markdown",
   "metadata": {},
   "source": [
    "> This is more convincing than the previous classifier.."
   ]
  },
  {
   "cell_type": "markdown",
   "metadata": {},
   "source": [
    "**Using RBF Kernel**"
   ]
  },
  {
   "cell_type": "code",
   "execution_count": 54,
   "metadata": {},
   "outputs": [
    {
     "data": {
      "image/png": "[encoded data removed]",
      "text/plain": [
       "<Figure size 1000x600 with 2 Axes>"
      ]
     },
     "metadata": {},
     "output_type": "display_data"
    }
   ],
   "source": [
    "import numpy as np\n",
    "import matplotlib.pyplot as plt\n",
    "from sklearn.svm import SVC\n",
    "\n",
    "# Define the range of gamma and C values to test\n",
    "gamma_values = [0.01, 0.03, 0.1, 0.3, 1]\n",
    "C_values = [100, 500, 1000, 2000, 5000]\n",
    "test_scores_matrix = np.zeros((len(gamma_values), len(C_values)))\n",
    "\n",
    "# Iterate over each combination of gamma and C values\n",
    "for i, gamma in enumerate(gamma_values):\n",
    "    for j, C in enumerate(C_values):\n",
    "        # Define the pipeline with the current gamma and C values\n",
    "        RBF_kernel_svm_clf = make_pipeline(\n",
    "            StandardScaler(),\n",
    "            SVC(kernel=\"rbf\", gamma=gamma, C=C)\n",
    "        )\n",
    "\n",
    "        # Train the model\n",
    "        RBF_kernel_svm_clf.fit(X_train, y_train)\n",
    "\n",
    "        # Evaluate the model on the test set\n",
    "        test_score = RBF_kernel_svm_clf.score(X_test, y_test)\n",
    "        test_scores_matrix[i, j] = test_score\n",
    "\n",
    "# Plot the matrix\n",
    "plt.figure(figsize=(10, 6))\n",
    "plt.imshow(test_scores_matrix, cmap='viridis', interpolation='nearest')\n",
    "plt.colorbar(label='Test Score')\n",
    "plt.xticks(np.arange(len(C_values)), C_values)\n",
    "plt.yticks(np.arange(len(gamma_values)), gamma_values)\n",
    "plt.xlabel('C Value')\n",
    "plt.ylabel('Gamma Value')\n",
    "plt.title('Test Score Matrix for RBF Kernel SVM')\n",
    "plt.show()\n"
   ]
  },
  {
   "cell_type": "code",
   "execution_count": 55,
   "metadata": {},
   "outputs": [
    {
     "name": "stdout",
     "output_type": "stream",
     "text": [
      "train score: 94.72%\n",
      "test score: 93.00%\n"
     ]
    }
   ],
   "source": [
    "poly_kernel_svm_clf = make_pipeline(\n",
    "    StandardScaler(),\n",
    "    SVC(kernel=\"rbf\", gamma=.1, C=100)\n",
    ")\n",
    "\n",
    "# train the model\n",
    "poly_kernel_svm_clf.fit(X_train, y_train)\n",
    "\n",
    "# evaluate the trained model\n",
    "RBF_kernel_train_score = poly_kernel_svm_clf.score(X_train, y_train)\n",
    "\n",
    "# evaluate the model on unseen data\n",
    "RBF_kernel_test_score  = poly_kernel_svm_clf.score(X_test, y_test)\n",
    "\n",
    "print(f\"train score: {RBF_kernel_train_score:.2%}\")\n",
    "print(f\"test score: {RBF_kernel_test_score:.2%}\")"
   ]
  },
  {
   "cell_type": "markdown",
   "metadata": {},
   "source": [
    "**Using polynomial Kernel**"
   ]
  },
  {
   "cell_type": "code",
   "execution_count": 53,
   "metadata": {},
   "outputs": [
    {
     "data": {
      "image/png": "[encoded data removed]",
      "text/plain": [
       "<Figure size 1000x600 with 2 Axes>"
      ]
     },
     "metadata": {},
     "output_type": "display_data"
    }
   ],
   "source": [
    "# This cell takes about 14 minutes to run\n",
    "\n",
    "import numpy as np\n",
    "import matplotlib.pyplot as plt\n",
    "from sklearn.svm import SVC\n",
    "\n",
    "coef0_values = [0.01, 0.1, 0.5, 1, 10, 100]\n",
    "C_vals = [0.1, 1.0, 5.0, 10.0, 50.0, 100.0]\n",
    "test_scores_matrix = np.zeros((len(coef0_values), len(C_vals)))\n",
    "\n",
    "\n",
    "for i, coef0 in enumerate(coef0_values):\n",
    "    for j, C in enumerate(C_vals):\n",
    "        poly_kernel_svm_clf = make_pipeline(\n",
    "            StandardScaler(),\n",
    "            SVC(kernel=\"poly\", coef0=coef0, C=C)\n",
    "        )\n",
    "        poly_kernel_svm_clf.fit(X_train, y_train)\n",
    "        test_score = poly_kernel_svm_clf.score(X_test, y_test)\n",
    "        test_scores_matrix[i, j] = test_score\n",
    "\n",
    "plt.figure(figsize=(10, 6))\n",
    "plt.imshow(test_scores_matrix, cmap='viridis', interpolation='nearest')\n",
    "plt.colorbar(label='Test Score')\n",
    "plt.xticks(np.arange(len(C_vals)), C_vals)\n",
    "plt.yticks(np.arange(len(coef0_values)), coef0_values)\n",
    "plt.xlabel('C Value')\n",
    "plt.ylabel('coef0 Value')\n",
    "plt.title('Test Score Matrix for poly Kernel SVM')\n",
    "plt.show()\n"
   ]
  },
  {
   "cell_type": "code",
   "execution_count": 59,
   "metadata": {},
   "outputs": [
    {
     "name": "stdout",
     "output_type": "stream",
     "text": [
      "train score: 91.25%\n",
      "test score: 91.75%\n"
     ]
    }
   ],
   "source": [
    "poly_kernel_svm_clf = make_pipeline(\n",
    "    StandardScaler(),\n",
    "    SVC(kernel=\"poly\", coef0=.1 ,C=50)\n",
    ")\n",
    "poly_kernel_svm_clf.fit(X_train, y_train)\n",
    "\n",
    "poly_kernel_train_score = poly_kernel_svm_clf.score(X_train, y_train)\n",
    "poly_kernel_test_score  = poly_kernel_svm_clf.score(X_test, y_test)\n",
    "\n",
    "print(f\"train score: {poly_kernel_train_score:.2%}\")\n",
    "print(f\"test score: {poly_kernel_test_score:.2%}\")"
   ]
  },
  {
   "cell_type": "markdown",
   "metadata": {},
   "source": [
    ">Overall, based on the difference between the test and train scores, the best classifier is the RBF Kernel SVM with C = 100 and gamma = 0.1"
   ]
  },
  {
   "cell_type": "markdown",
   "metadata": {},
   "source": [
    "> train score: 94.72%\n",
    "test score: 93.00%\n"
   ]
  },
  {
   "cell_type": "markdown",
   "metadata": {},
   "source": [
    "> This classifier has the same test result as using polynomial features for linear SVM. However It is less overfitting."
   ]
  }
 ],
 "metadata": {
  "kernelspec": {
   "display_name": "Python 3",
   "language": "python",
   "name": "python3"
  },
  "language_info": {
   "codemirror_mode": {
    "name": "ipython",
    "version": 3
   },
   "file_extension": ".py",
   "mimetype": "text/x-python",
   "name": "python",
   "nbconvert_exporter": "python",
   "pygments_lexer": "ipython3",
   "version": "3.11.4"
  }
 },
 "nbformat": 4,
 "nbformat_minor": 2
}
